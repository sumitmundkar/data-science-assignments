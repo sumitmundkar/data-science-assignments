{
 "cells": [
  {
   "cell_type": "markdown",
   "id": "f76f615c",
   "metadata": {},
   "source": [
    "1.What are the two values of the Boolean data type? How do you write them?"
   ]
  },
  {
   "cell_type": "markdown",
   "id": "fdee9197",
   "metadata": {},
   "source": [
    "the two values of boolean data type are True and False."
   ]
  },
  {
   "cell_type": "code",
   "execution_count": 1,
   "id": "f6e15745",
   "metadata": {},
   "outputs": [
    {
     "name": "stdout",
     "output_type": "stream",
     "text": [
      "True\n"
     ]
    }
   ],
   "source": [
    "num_1 = 25\n",
    "num_2  = 25\n",
    "print(num_1 == num_2)"
   ]
  },
  {
   "cell_type": "code",
   "execution_count": 2,
   "id": "982f6d28",
   "metadata": {},
   "outputs": [
    {
     "name": "stdout",
     "output_type": "stream",
     "text": [
      "False\n"
     ]
    }
   ],
   "source": [
    "num_1 = 20\n",
    "num_2 = 19\n",
    "print(num_1 == num_2)"
   ]
  },
  {
   "cell_type": "markdown",
   "id": "cf493fc9",
   "metadata": {},
   "source": [
    "2. What are the three different types of Boolean operators?"
   ]
  },
  {
   "cell_type": "code",
   "execution_count": 3,
   "id": "ee383886",
   "metadata": {},
   "outputs": [
    {
     "data": {
      "text/plain": [
       "False"
      ]
     },
     "execution_count": 3,
     "metadata": {},
     "output_type": "execute_result"
    }
   ],
   "source": [
    "a=50\n",
    "b=25          #  Boolean and operator returns true if both operands return true.\n",
    "a>40 and b>40"
   ]
  },
  {
   "cell_type": "code",
   "execution_count": 4,
   "id": "1a6ae59f",
   "metadata": {},
   "outputs": [
    {
     "data": {
      "text/plain": [
       "True"
      ]
     },
     "execution_count": 4,
     "metadata": {},
     "output_type": "execute_result"
    }
   ],
   "source": [
    "a=50 \n",
    "b=25             # Boolean or operator returns true if any one operand is true  \n",
    "a>40 or b>40"
   ]
  },
  {
   "cell_type": "code",
   "execution_count": 5,
   "id": "5614874a",
   "metadata": {},
   "outputs": [
    {
     "data": {
      "text/plain": [
       "False"
      ]
     },
     "execution_count": 5,
     "metadata": {},
     "output_type": "execute_result"
    }
   ],
   "source": [
    "a=10\n",
    "a>10"
   ]
  },
  {
   "cell_type": "code",
   "execution_count": 6,
   "id": "3330d61c",
   "metadata": {},
   "outputs": [
    {
     "data": {
      "text/plain": [
       "True"
      ]
     },
     "execution_count": 6,
     "metadata": {},
     "output_type": "execute_result"
    }
   ],
   "source": [
    "not(a>10)       #  not operator returns true if its operand is a false expression and returns false if it is true"
   ]
  },
  {
   "cell_type": "markdown",
   "id": "c857de30",
   "metadata": {},
   "source": [
    "3. Make a list of each Boolean operator truth tables (i.e. every possible combination of Boolean\n",
    "values for the operator and what it evaluate )."
   ]
  },
  {
   "cell_type": "code",
   "execution_count": 9,
   "id": "13ef188b",
   "metadata": {},
   "outputs": [
    {
     "data": {
      "text/plain": [
       "False"
      ]
     },
     "execution_count": 9,
     "metadata": {},
     "output_type": "execute_result"
    }
   ],
   "source": [
    "a=50\n",
    "b=25                   # and operator truth table\n",
    "a>40 and b>40"
   ]
  },
  {
   "cell_type": "code",
   "execution_count": 10,
   "id": "90847e4a",
   "metadata": {},
   "outputs": [
    {
     "data": {
      "text/plain": [
       "False"
      ]
     },
     "execution_count": 10,
     "metadata": {},
     "output_type": "execute_result"
    }
   ],
   "source": [
    "a>100 and b<50"
   ]
  },
  {
   "cell_type": "code",
   "execution_count": 11,
   "id": "3c81b23d",
   "metadata": {},
   "outputs": [
    {
     "data": {
      "text/plain": [
       "False"
      ]
     },
     "execution_count": 11,
     "metadata": {},
     "output_type": "execute_result"
    }
   ],
   "source": [
    "a==0 and b==0"
   ]
  },
  {
   "cell_type": "code",
   "execution_count": 12,
   "id": "09c088e1",
   "metadata": {},
   "outputs": [
    {
     "data": {
      "text/plain": [
       "True"
      ]
     },
     "execution_count": 12,
     "metadata": {},
     "output_type": "execute_result"
    }
   ],
   "source": [
    "a>0 and b>0"
   ]
  },
  {
   "cell_type": "code",
   "execution_count": 13,
   "id": "535b7784",
   "metadata": {},
   "outputs": [
    {
     "data": {
      "text/plain": [
       "True"
      ]
     },
     "execution_count": 13,
     "metadata": {},
     "output_type": "execute_result"
    }
   ],
   "source": [
    "a=50\n",
    "b=25             # or operater truth table\n",
    "a>40 or b>40"
   ]
  },
  {
   "cell_type": "code",
   "execution_count": 14,
   "id": "7b5567b4",
   "metadata": {},
   "outputs": [
    {
     "data": {
      "text/plain": [
       "True"
      ]
     },
     "execution_count": 14,
     "metadata": {},
     "output_type": "execute_result"
    }
   ],
   "source": [
    "a>100 or b<50"
   ]
  },
  {
   "cell_type": "code",
   "execution_count": 15,
   "id": "ebd26033",
   "metadata": {},
   "outputs": [
    {
     "data": {
      "text/plain": [
       "False"
      ]
     },
     "execution_count": 15,
     "metadata": {},
     "output_type": "execute_result"
    }
   ],
   "source": [
    "a==0 or b==0"
   ]
  },
  {
   "cell_type": "code",
   "execution_count": 16,
   "id": "b578c7a8",
   "metadata": {},
   "outputs": [
    {
     "data": {
      "text/plain": [
       "True"
      ]
     },
     "execution_count": 16,
     "metadata": {},
     "output_type": "execute_result"
    }
   ],
   "source": [
    "a>0 or b>0"
   ]
  },
  {
   "cell_type": "code",
   "execution_count": 19,
   "id": "289ab131",
   "metadata": {},
   "outputs": [
    {
     "data": {
      "text/plain": [
       "False"
      ]
     },
     "execution_count": 19,
     "metadata": {},
     "output_type": "execute_result"
    }
   ],
   "source": [
    "a=10\n",
    "a>10     # not opeater"
   ]
  },
  {
   "cell_type": "code",
   "execution_count": 18,
   "id": "ee0d4d2b",
   "metadata": {},
   "outputs": [
    {
     "data": {
      "text/plain": [
       "True"
      ]
     },
     "execution_count": 18,
     "metadata": {},
     "output_type": "execute_result"
    }
   ],
   "source": [
    "not(a>10)"
   ]
  },
  {
   "cell_type": "markdown",
   "id": "4deaed01",
   "metadata": {},
   "source": [
    "4. What are the values of the following expressions?"
   ]
  },
  {
   "cell_type": "code",
   "execution_count": 21,
   "id": "d9eda1e9",
   "metadata": {},
   "outputs": [
    {
     "data": {
      "text/plain": [
       "False"
      ]
     },
     "execution_count": 21,
     "metadata": {},
     "output_type": "execute_result"
    }
   ],
   "source": [
    "(5 > 4) and (3 == 5)"
   ]
  },
  {
   "cell_type": "code",
   "execution_count": 22,
   "id": "21d189ee",
   "metadata": {},
   "outputs": [
    {
     "data": {
      "text/plain": [
       "False"
      ]
     },
     "execution_count": 22,
     "metadata": {},
     "output_type": "execute_result"
    }
   ],
   "source": [
    "not(5 > 4)"
   ]
  },
  {
   "cell_type": "code",
   "execution_count": 23,
   "id": "b695330b",
   "metadata": {},
   "outputs": [
    {
     "data": {
      "text/plain": [
       "True"
      ]
     },
     "execution_count": 23,
     "metadata": {},
     "output_type": "execute_result"
    }
   ],
   "source": [
    "(5 > 4) or (3 == 5)"
   ]
  },
  {
   "cell_type": "code",
   "execution_count": 24,
   "id": "5e10ebba",
   "metadata": {},
   "outputs": [
    {
     "data": {
      "text/plain": [
       "False"
      ]
     },
     "execution_count": 24,
     "metadata": {},
     "output_type": "execute_result"
    }
   ],
   "source": [
    "not((5 > 4) or (3 == 5))"
   ]
  },
  {
   "cell_type": "code",
   "execution_count": 25,
   "id": "025347b7",
   "metadata": {},
   "outputs": [
    {
     "data": {
      "text/plain": [
       "False"
      ]
     },
     "execution_count": 25,
     "metadata": {},
     "output_type": "execute_result"
    }
   ],
   "source": [
    "(True and True) and (True == False)"
   ]
  },
  {
   "cell_type": "code",
   "execution_count": 26,
   "id": "b4f9aa25",
   "metadata": {},
   "outputs": [
    {
     "data": {
      "text/plain": [
       "True"
      ]
     },
     "execution_count": 26,
     "metadata": {},
     "output_type": "execute_result"
    }
   ],
   "source": [
    "(not False) or (not True)"
   ]
  },
  {
   "cell_type": "markdown",
   "id": "f98bc7bf",
   "metadata": {},
   "source": [
    "5. What are the six comparison operators?"
   ]
  },
  {
   "cell_type": "code",
   "execution_count": 27,
   "id": "1ba2f5b1",
   "metadata": {},
   "outputs": [
    {
     "data": {
      "text/plain": [
       "True"
      ]
     },
     "execution_count": 27,
     "metadata": {},
     "output_type": "execute_result"
    }
   ],
   "source": [
    "4 == 4      # equal to   "
   ]
  },
  {
   "cell_type": "code",
   "execution_count": 28,
   "id": "a7ff346b",
   "metadata": {},
   "outputs": [
    {
     "data": {
      "text/plain": [
       "True"
      ]
     },
     "execution_count": 28,
     "metadata": {},
     "output_type": "execute_result"
    }
   ],
   "source": [
    "4 != 5   # not equal to"
   ]
  },
  {
   "cell_type": "code",
   "execution_count": 31,
   "id": "7998cf10",
   "metadata": {},
   "outputs": [
    {
     "data": {
      "text/plain": [
       "True"
      ]
     },
     "execution_count": 31,
     "metadata": {},
     "output_type": "execute_result"
    }
   ],
   "source": [
    "5 > 4     # greater than "
   ]
  },
  {
   "cell_type": "code",
   "execution_count": 32,
   "id": "ef265fd2",
   "metadata": {},
   "outputs": [
    {
     "data": {
      "text/plain": [
       "True"
      ]
     },
     "execution_count": 32,
     "metadata": {},
     "output_type": "execute_result"
    }
   ],
   "source": [
    "4 < 5      # less than "
   ]
  },
  {
   "cell_type": "code",
   "execution_count": 33,
   "id": "f12c2b27",
   "metadata": {},
   "outputs": [
    {
     "data": {
      "text/plain": [
       "True"
      ]
     },
     "execution_count": 33,
     "metadata": {},
     "output_type": "execute_result"
    }
   ],
   "source": [
    "5 >= 3 # greater than or equal to"
   ]
  },
  {
   "cell_type": "code",
   "execution_count": 35,
   "id": "353f0878",
   "metadata": {},
   "outputs": [
    {
     "data": {
      "text/plain": [
       "True"
      ]
     },
     "execution_count": 35,
     "metadata": {},
     "output_type": "execute_result"
    }
   ],
   "source": [
    "4 <= 6  # less than or equal to"
   ]
  },
  {
   "cell_type": "markdown",
   "id": "29d04f3a",
   "metadata": {},
   "source": [
    "6. How do you tell the difference between the equal to and assignment operators?Describe a\n",
    "condition and when you would use one."
   ]
  },
  {
   "cell_type": "code",
   "execution_count": 39,
   "id": "bc8f9ee3",
   "metadata": {},
   "outputs": [
    {
     "name": "stdout",
     "output_type": "stream",
     "text": [
      "correct\n"
     ]
    }
   ],
   "source": [
    "a = 4      # assignment operator = stores value in variable  and equal to operator == is used to check comparison between two vaiables\n",
    "b = 4.0\n",
    "if b == a:      \n",
    "    print('correct')"
   ]
  },
  {
   "cell_type": "markdown",
   "id": "5f2c78d7",
   "metadata": {},
   "source": [
    "7. Identify the three blocks in this code:"
   ]
  },
  {
   "cell_type": "code",
   "execution_count": 42,
   "id": "194986d8",
   "metadata": {},
   "outputs": [
    {
     "name": "stdout",
     "output_type": "stream",
     "text": [
      "ham\n",
      "spam\n",
      "spam\n"
     ]
    }
   ],
   "source": [
    "spam = 0\n",
    "if spam == 10:      # 1st block\n",
    "    print('eggs')\n",
    "    \n",
    "    if spam > 5:       # 2nd block\n",
    "        print('bacon')\n",
    "        \n",
    "else:                   # 3rd block\n",
    "    print('ham')\n",
    "    print('spam')\n",
    "    print('spam')"
   ]
  },
  {
   "cell_type": "markdown",
   "id": "fcf552de",
   "metadata": {},
   "source": [
    "8. Write code that prints Hello if 1 is stored in spam, prints Howdy if 2 is stored in spam, and prints\n",
    "Greetings! if anything else is stored in spam."
   ]
  },
  {
   "cell_type": "code",
   "execution_count": 43,
   "id": "da33c18b",
   "metadata": {},
   "outputs": [
    {
     "name": "stdout",
     "output_type": "stream",
     "text": [
      "Greetings!\n"
     ]
    }
   ],
   "source": [
    "spam = 0\n",
    "if spam == 1:\n",
    "    print('Hello')\n",
    "    if spam == 2:\n",
    "        print('Howdy')\n",
    "else:\n",
    "    print('Greetings!')"
   ]
  },
  {
   "cell_type": "markdown",
   "id": "62f63e14",
   "metadata": {},
   "source": [
    "9.If your programme is stuck in an endless loop, what keys you’ll press?"
   ]
  },
  {
   "cell_type": "markdown",
   "id": "e20e9ae2",
   "metadata": {},
   "source": [
    "An infinite loop is a loop that runs indefinitely and it only stops with external intervention or when a break statement is found. You can stop an infinite loop with CTRL + C ."
   ]
  },
  {
   "cell_type": "markdown",
   "id": "bfd115de",
   "metadata": {},
   "source": [
    "10.How can you tell the difference between break and continue?"
   ]
  },
  {
   "cell_type": "code",
   "execution_count": 44,
   "id": "e1a1d9eb",
   "metadata": {},
   "outputs": [],
   "source": [
    "students = [\"Paul\", \"Erin\", \"Connie\", \"Moira\"]"
   ]
  },
  {
   "cell_type": "code",
   "execution_count": 49,
   "id": "31030fcf",
   "metadata": {},
   "outputs": [
    {
     "name": "stdout",
     "output_type": "stream",
     "text": [
      "Paul\n",
      "counter is 0\n",
      "Erin\n",
      "counter is 1\n",
      "program complete\n"
     ]
    }
   ],
   "source": [
    "for student in range(0,len(students)):\n",
    "    if student == 2:\n",
    "        break\n",
    "    else:        \n",
    "        print(students[student])\n",
    "        \n",
    "        print(\"counter is \" + str(student))\n",
    "print(\"program complete\")"
   ]
  },
  {
   "cell_type": "code",
   "execution_count": 50,
   "id": "d60e5b9f",
   "metadata": {},
   "outputs": [
    {
     "name": "stdout",
     "output_type": "stream",
     "text": [
      "Paul\n",
      "counter is 0\n",
      "Erin\n",
      "counter is 1\n",
      "Moira\n",
      "counter is 3\n",
      "program complete\n"
     ]
    }
   ],
   "source": [
    "for student in range(0,len(students)):\n",
    "    if student == 2:\n",
    "        continue\n",
    "    else:\n",
    "        print(students[student])\n",
    "        \n",
    "        print(\"counter is \" + str(student))\n",
    "print(\"program complete\")"
   ]
  },
  {
   "cell_type": "markdown",
   "id": "9e6f2eb3",
   "metadata": {},
   "source": [
    "11. In a for loop, what is the difference between range(10), range(0, 10), and range(0, 10, 1)?"
   ]
  },
  {
   "cell_type": "code",
   "execution_count": 53,
   "id": "048ff161",
   "metadata": {},
   "outputs": [
    {
     "name": "stdout",
     "output_type": "stream",
     "text": [
      "0\n",
      "1\n",
      "2\n",
      "3\n",
      "4\n",
      "5\n",
      "6\n",
      "7\n",
      "8\n",
      "9\n"
     ]
    }
   ],
   "source": [
    "for i in range(10):\n",
    "    print(i)"
   ]
  },
  {
   "cell_type": "code",
   "execution_count": 54,
   "id": "104d403f",
   "metadata": {},
   "outputs": [
    {
     "name": "stdout",
     "output_type": "stream",
     "text": [
      "0\n",
      "1\n",
      "2\n",
      "3\n",
      "4\n",
      "5\n",
      "6\n",
      "7\n",
      "8\n",
      "9\n"
     ]
    }
   ],
   "source": [
    "for i in range (0,10):\n",
    "    print(i)"
   ]
  },
  {
   "cell_type": "code",
   "execution_count": 55,
   "id": "73aaa853",
   "metadata": {},
   "outputs": [
    {
     "name": "stdout",
     "output_type": "stream",
     "text": [
      "0\n",
      "1\n",
      "2\n",
      "3\n",
      "4\n",
      "5\n",
      "6\n",
      "7\n",
      "8\n",
      "9\n"
     ]
    }
   ],
   "source": [
    "for i in range(0,10,1):\n",
    "    print(i)"
   ]
  },
  {
   "cell_type": "markdown",
   "id": "d62436e7",
   "metadata": {},
   "source": [
    "there is no difference betweeen these 3\n",
    "1] first one by default starts from 0 with default step value 1 if they are not given...\n",
    "2] second one has defult step value of 1\n",
    "3] third one as as given"
   ]
  },
  {
   "cell_type": "markdown",
   "id": "a7b32ad4",
   "metadata": {},
   "source": [
    "12. Write a short program that prints the numbers 1 to 10 using a for loop. Then write an equivalent\n",
    "program that prints the numbers 1 to 10 using a while loop."
   ]
  },
  {
   "cell_type": "code",
   "execution_count": 59,
   "id": "c65b6c9e",
   "metadata": {},
   "outputs": [
    {
     "name": "stdout",
     "output_type": "stream",
     "text": [
      "1\n",
      "2\n",
      "3\n",
      "4\n",
      "5\n",
      "6\n",
      "7\n",
      "8\n",
      "9\n",
      "10\n"
     ]
    }
   ],
   "source": [
    "for i in range(1,11):\n",
    "    print(i)                     # for loop"
   ]
  },
  {
   "cell_type": "code",
   "execution_count": 58,
   "id": "9b83d98d",
   "metadata": {},
   "outputs": [
    {
     "name": "stdout",
     "output_type": "stream",
     "text": [
      "1\n",
      "2\n",
      "3\n",
      "4\n",
      "5\n",
      "6\n",
      "7\n",
      "8\n",
      "9\n",
      "10\n"
     ]
    }
   ],
   "source": [
    "i = 1\n",
    "while(i<=10):\n",
    "    print(i)\n",
    "    i += 1             # while loop"
   ]
  },
  {
   "cell_type": "markdown",
   "id": "8ccff551",
   "metadata": {},
   "source": [
    "13. If you had a function named bacon() inside a module named spam, how would you call it after\n",
    "importing spam?"
   ]
  },
  {
   "cell_type": "markdown",
   "id": "b765e935",
   "metadata": {},
   "source": [
    " with spam.bacon()"
   ]
  }
 ],
 "metadata": {
  "kernelspec": {
   "display_name": "Python 3 (ipykernel)",
   "language": "python",
   "name": "python3"
  },
  "language_info": {
   "codemirror_mode": {
    "name": "ipython",
    "version": 3
   },
   "file_extension": ".py",
   "mimetype": "text/x-python",
   "name": "python",
   "nbconvert_exporter": "python",
   "pygments_lexer": "ipython3",
   "version": "3.9.7"
  }
 },
 "nbformat": 4,
 "nbformat_minor": 5
}
