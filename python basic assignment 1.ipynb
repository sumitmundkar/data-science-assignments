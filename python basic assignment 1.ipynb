{
 "cells": [
  {
   "cell_type": "markdown",
   "id": "4ce35708",
   "metadata": {},
   "source": [
    "1. In the below elements which of them are values or an expression? eg:- values can be\n",
    "integer or string and expressions will be mathematical operators."
   ]
  },
  {
   "cell_type": "code",
   "execution_count": 9,
   "id": "736cbdc4",
   "metadata": {},
   "outputs": [
    {
     "name": "stdout",
     "output_type": "stream",
     "text": [
      "44\n",
      "<class 'str'>\n",
      "<class 'float'>\n",
      "15\n",
      "5.0\n",
      "10\n",
      "<class 'int'>\n"
     ]
    }
   ],
   "source": [
    "multiply = 22 * 2    # * is an expression used as mathematical operator for multiplication\n",
    "print(multiply)\n",
    "\n",
    "value_1 = \"hello\"\n",
    "print(type(value_1))     # \"hello\" is value used as string\n",
    "\n",
    "value_2 = -87.8        # -87.8 is integer value with negative value\n",
    "print(type(value_2))\n",
    "\n",
    "value_3 = 20 - 5       # - is an expression used as mathematical operator for substraction\n",
    "print(value_3)\n",
    "\n",
    "value_4 = 20 / 4       #  / is an expression used as mathematical operator for division\n",
    "print(value_4)\n",
    "\n",
    "value_5 = 5 + 5         #  + is an expression used as mathematical operator for addition\n",
    "print(value_5)\n",
    "\n",
    "value_6  = 6            #  6 is value of variable\n",
    "print(type(value_6))"
   ]
  },
  {
   "cell_type": "markdown",
   "id": "05633821",
   "metadata": {},
   "source": [
    "2. What is the difference between string and variable?"
   ]
  },
  {
   "cell_type": "markdown",
   "id": "d6694d7b",
   "metadata": {},
   "source": [
    "Variables store information in a program. You can think of variables like a box or a container with a name on them, related to the things inside. These items inside are called values, which can be stored as text or numbers. ... A string is a type of value that can be stored in a variable."
   ]
  },
  {
   "cell_type": "code",
   "execution_count": 10,
   "id": "707c960e",
   "metadata": {},
   "outputs": [
    {
     "name": "stdout",
     "output_type": "stream",
     "text": [
      "<class 'str'>\n"
     ]
    }
   ],
   "source": [
    "var = \"hello world\"    #  var is variable and \"hello world\" is string\n",
    "print(type(var))"
   ]
  },
  {
   "cell_type": "markdown",
   "id": "f3f6098d",
   "metadata": {},
   "source": [
    "3. Describe three different data types."
   ]
  },
  {
   "cell_type": "code",
   "execution_count": 11,
   "id": "3eded479",
   "metadata": {},
   "outputs": [
    {
     "name": "stdout",
     "output_type": "stream",
     "text": [
      "<class 'int'>\n",
      "<class 'float'>\n",
      "<class 'bool'>\n",
      "<class 'bool'>\n"
     ]
    }
   ],
   "source": [
    "num_1 = 25  # 25 is integer data type\n",
    "print(type(num_1))\n",
    "\n",
    "num_2 = 25.0 # 25.0 is float data type\n",
    "print(type(num_2))\n",
    "\n",
    "num_3 = True\n",
    "num_4 = False # True and False are booleans\n",
    "print(type(num_3))\n",
    "print(type(num_4))"
   ]
  },
  {
   "cell_type": "markdown",
   "id": "9ed92b53",
   "metadata": {},
   "source": [
    "4. What is an expression made up of? What do all expressions do?"
   ]
  },
  {
   "cell_type": "markdown",
   "id": "1e543669",
   "metadata": {},
   "source": [
    "An expression is a combination of values, variables, operators, and calls to functions. Expressions need to be evaluated. If you ask Python to print an expression, the interpreter evaluates the expression and displays the result."
   ]
  },
  {
   "cell_type": "markdown",
   "id": "1f3c7ae8",
   "metadata": {},
   "source": [
    "5. This assignment statements, like spam = 10. What is the difference between an\n",
    "expression and a statement?"
   ]
  },
  {
   "cell_type": "markdown",
   "id": "cc85a196",
   "metadata": {},
   "source": [
    "An Expression is a sequence or combination of values, variables, operators and function calls that always produces or returns a result value."
   ]
  },
  {
   "cell_type": "code",
   "execution_count": 12,
   "id": "06fb3d7f",
   "metadata": {},
   "outputs": [
    {
     "data": {
      "text/plain": [
       "20"
      ]
     },
     "execution_count": 12,
     "metadata": {},
     "output_type": "execute_result"
    }
   ],
   "source": [
    "16\n",
    "a = 4          # #using Arithmetic expressions\n",
    "a + 16"
   ]
  },
  {
   "cell_type": "markdown",
   "id": "2cb31bb4",
   "metadata": {},
   "source": [
    "Any Instruction that a python interpreter can execute (carry out) is called a Statement."
   ]
  },
  {
   "cell_type": "code",
   "execution_count": 13,
   "id": "2e958d67",
   "metadata": {},
   "outputs": [
    {
     "name": "stdout",
     "output_type": "stream",
     "text": [
      "3\n"
     ]
    }
   ],
   "source": [
    "x = 3\n",
    "print(x)         #second line is a print statement that displays the value of x."
   ]
  },
  {
   "cell_type": "markdown",
   "id": "6a29f888",
   "metadata": {},
   "source": [
    "6. After running the following code, what does the variable bacon contain?\n",
    "\n",
    "bacon = 22 \n",
    "\n",
    "bacon + 1"
   ]
  },
  {
   "cell_type": "code",
   "execution_count": 14,
   "id": "000fb9db",
   "metadata": {},
   "outputs": [
    {
     "data": {
      "text/plain": [
       "23"
      ]
     },
     "execution_count": 14,
     "metadata": {},
     "output_type": "execute_result"
    }
   ],
   "source": [
    "bacon = 22\n",
    "bacon + 1"
   ]
  },
  {
   "cell_type": "markdown",
   "id": "4c84dd49",
   "metadata": {},
   "source": [
    "7. What should the values of the following two terms be?\n"
   ]
  },
  {
   "cell_type": "code",
   "execution_count": 15,
   "id": "02b02f8e",
   "metadata": {},
   "outputs": [
    {
     "data": {
      "text/plain": [
       "'spamspamspam'"
      ]
     },
     "execution_count": 15,
     "metadata": {},
     "output_type": "execute_result"
    }
   ],
   "source": [
    "'spam' + 'spamspam'"
   ]
  },
  {
   "cell_type": "code",
   "execution_count": 16,
   "id": "0da35e93",
   "metadata": {},
   "outputs": [
    {
     "data": {
      "text/plain": [
       "'spamspamspam'"
      ]
     },
     "execution_count": 16,
     "metadata": {},
     "output_type": "execute_result"
    }
   ],
   "source": [
    "'spam' * 3"
   ]
  },
  {
   "cell_type": "markdown",
   "id": "6b9e0aa6",
   "metadata": {},
   "source": [
    "8. Why is eggs a valid variable name while 100 is invalid?"
   ]
  },
  {
   "cell_type": "code",
   "execution_count": 17,
   "id": "361e7113",
   "metadata": {},
   "outputs": [],
   "source": [
    "eggs = 3    # variable name can start with albaphabets so valid"
   ]
  },
  {
   "cell_type": "code",
   "execution_count": 18,
   "id": "ae0ec892",
   "metadata": {},
   "outputs": [
    {
     "ename": "SyntaxError",
     "evalue": "cannot assign to literal (Temp/ipykernel_24128/1273876687.py, line 1)",
     "output_type": "error",
     "traceback": [
      "\u001b[1;36m  File \u001b[1;32m\"C:\\Users\\smund\\AppData\\Local\\Temp/ipykernel_24128/1273876687.py\"\u001b[1;36m, line \u001b[1;32m1\u001b[0m\n\u001b[1;33m    100 = 3\u001b[0m\n\u001b[1;37m    ^\u001b[0m\n\u001b[1;31mSyntaxError\u001b[0m\u001b[1;31m:\u001b[0m cannot assign to literal\n"
     ]
    }
   ],
   "source": [
    "100 = 3   # varibale name cannot be started with integers so error and invalid"
   ]
  },
  {
   "cell_type": "markdown",
   "id": "3f9a84d2",
   "metadata": {},
   "source": [
    "9. What three functions can be used to get the integer, floating-point number, or string\n",
    "version of a value?"
   ]
  },
  {
   "cell_type": "code",
   "execution_count": 22,
   "id": "ff587cde",
   "metadata": {},
   "outputs": [
    {
     "name": "stdout",
     "output_type": "stream",
     "text": [
      "1\n"
     ]
    }
   ],
   "source": [
    "num_1 = int(input())"
   ]
  },
  {
   "cell_type": "code",
   "execution_count": 23,
   "id": "cf52413b",
   "metadata": {},
   "outputs": [
    {
     "name": "stdout",
     "output_type": "stream",
     "text": [
      "2.0\n"
     ]
    }
   ],
   "source": [
    "num_2  = float(input())"
   ]
  },
  {
   "cell_type": "code",
   "execution_count": 24,
   "id": "9e527ed0",
   "metadata": {},
   "outputs": [
    {
     "name": "stdout",
     "output_type": "stream",
     "text": [
      "'hi my name is sumit'\n"
     ]
    }
   ],
   "source": [
    "var  = str(input())"
   ]
  },
  {
   "cell_type": "markdown",
   "id": "51fb688b",
   "metadata": {},
   "source": [
    "10. Why does this expression cause an error? How can you fix it?\n"
   ]
  },
  {
   "cell_type": "code",
   "execution_count": 25,
   "id": "700246ea",
   "metadata": {},
   "outputs": [
    {
     "ename": "TypeError",
     "evalue": "can only concatenate str (not \"int\") to str",
     "output_type": "error",
     "traceback": [
      "\u001b[1;31m---------------------------------------------------------------------------\u001b[0m",
      "\u001b[1;31mTypeError\u001b[0m                                 Traceback (most recent call last)",
      "\u001b[1;32m~\\AppData\\Local\\Temp/ipykernel_24128/1557630713.py\u001b[0m in \u001b[0;36m<module>\u001b[1;34m\u001b[0m\n\u001b[1;32m----> 1\u001b[1;33m \u001b[0mprint\u001b[0m\u001b[1;33m(\u001b[0m\u001b[1;34m'I have eaten'\u001b[0m  \u001b[1;33m+\u001b[0m \u001b[1;36m99\u001b[0m \u001b[1;33m+\u001b[0m  \u001b[1;34m'burritos'\u001b[0m\u001b[1;33m)\u001b[0m\u001b[1;33m\u001b[0m\u001b[1;33m\u001b[0m\u001b[0m\n\u001b[0m",
      "\u001b[1;31mTypeError\u001b[0m: can only concatenate str (not \"int\") to str"
     ]
    }
   ],
   "source": [
    "print('I have eaten'  + 99 +  'burritos')"
   ]
  },
  {
   "cell_type": "code",
   "execution_count": 27,
   "id": "e7f8f2fd",
   "metadata": {},
   "outputs": [
    {
     "name": "stdout",
     "output_type": "stream",
     "text": [
      "I have eaten 99 burritos\n"
     ]
    }
   ],
   "source": [
    "print('I have eaten '  + str(99) +  ' burritos')  # we cannot add string to integer so we used str() fuction to convert 99 into stringa and then add"
   ]
  },
  {
   "cell_type": "code",
   "execution_count": null,
   "id": "40709dab",
   "metadata": {},
   "outputs": [],
   "source": []
  }
 ],
 "metadata": {
  "kernelspec": {
   "display_name": "Python 3 (ipykernel)",
   "language": "python",
   "name": "python3"
  },
  "language_info": {
   "codemirror_mode": {
    "name": "ipython",
    "version": 3
   },
   "file_extension": ".py",
   "mimetype": "text/x-python",
   "name": "python",
   "nbconvert_exporter": "python",
   "pygments_lexer": "ipython3",
   "version": "3.9.7"
  }
 },
 "nbformat": 4,
 "nbformat_minor": 5
}
